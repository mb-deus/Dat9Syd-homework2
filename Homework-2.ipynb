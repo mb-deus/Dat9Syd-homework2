{
 "cells": [
  {
   "cell_type": "markdown",
   "metadata": {},
   "source": [
    "# SYD9DAT - Homework 2\n",
    "\n",
    "### Course Project\n",
    "\n",
    "#### Setup\n",
    "* Sign up for an AWS account\n",
    "\n",
    "#### Communication\n",
    "Imagine you are trying to describe Linear Regression to someone - but they have no programming/maths experience! How would you explain...\n",
    "- the overall process?\n",
    "- what a p-value is?\n",
    "- what R-Squared means?\n",
    "\n",
    "Read the paper [Useful things to know about machine learning](https://homes.cs.washington.edu/~pedrod/papers/cacm12.pdf). \n",
    "- What have we covered so far from this paper? \n",
    "- Explain sections 6-13 in your own words.\n",
    "\n",
    "#### Machine Learning\n",
    "* Describe 3 ways we can select what features to use in a model.\n",
    "\n",
    "#### Course Project\n",
    "* Create a github repository for your project and share it with Allen and Kieran over Slack.\n",
    "* Load the data you have gathered for your project into Python and run some summary statistics over the data. Are there any interesting features of the data that jump out?\n",
    "* Create some data visualisations that explore some aspect of your data set.\n",
    "* Are there any regresion or clustering techniques you could use in your project? Write them down (with the corresponding scikit learn function) and what you think you would get out of it. Try a preliminary model, if you get a chance (you can choose a small subset of features to begin with).\n"
   ]
  },
  {
   "cell_type": "markdown",
   "metadata": {
    "collapsed": true
   },
   "source": [
    "## Linear Regression:\n",
    "\n",
    "\n",
    "#### Explanation of the overall process:\n",
    "\n",
    "    Linear regression aims to identify the relationship between two numerical variables, in order to predict an outcome (variable 2, example 'y') given a specific input (variable 1, example 'x').  The relationship can be represented graphically by a straight line on a graph which approximates the outcome, where 'y' is a multiple of 'x' plus or minus some error.  The exact formula for the straight line is identified by ensuring the difference between the straight line and the actual outputs (y) are minimised over all the possible values in the population of outputs that we know.\n",
    "    \n",
    "    In multiple linear regression, there is more than 1 input, example, x1, x2, and as such multiple variables are entered to return a single output/outcome (y).\n",
    "   \n",
    "    \n",
    "    \n",
    "#### What is a p-value?\n",
    "\n",
    "    A value that indicates the probability of that the result we found is representative of the population and hence that we can rely on it as a guide to population as a whole.\n",
    "\n",
    "\n",
    "#### What does R-squared mean?\n",
    "\n",
    "    R-squared, a value between 0 and 1, represents the accuracy of a lineart model, with 0 indicating the identified relationship has no ability to predict outcomes and 1 indicating 100% accuracy in predicting the outcome.  Crucially it represents the the percentage of the response variable variation (y) that is explained by a linear model\n",
    "\n",
    "."
   ]
  },
  {
   "cell_type": "markdown",
   "metadata": {},
   "source": [
    "## Useful things to know about machine learning\n",
    "\n",
    "\n",
    "#### What have we covered so far?\n",
    "K nearest neighbour\n",
    "Support Vector machines\n",
    "Naive Bayes\n",
    "Logistic regression\n",
    "Decision trees\n",
    "\n",
    "Accuracy / Error rate\n",
    "Precision and recall\n",
    "Overfitting - bias and variance\n",
    "Regularization\n",
    "Cross Validation\n",
    "Ensembles, bagging, boosting\n",
    "\n",
    "\n",
    "#### Explain sections 6-13\n",
    "\n",
    "6 - Increased dimensionaility means that the training data set inevitbaly represents a smaller prportion of the input space.  In addition to this the noise from all the potential variables results in the model effectively acting randomly.\n",
    "\n",
    "7 - ???Might as well have been written in Swahili???\n",
    "\n",
    "8 - Feature engineering (understanding your data and reconstructing specific fields as is necessary) is crucial to getting the best result/model. It is also the most time consumaing part of the process.\n",
    "\n",
    "9 - If your algorithm is struggling then get more data rather than attempt a more complicated model.\n",
    "\n",
    "10 - Gain a broad understanding of a number of different models and techniques and seek to combine them where possible to improve the quality of the results.\n",
    "\n",
    "11 - Where two models have the dsame training error the simpler one may not be the preferred one, ie more accurate for test data.  Ensembles are a good example to illustrate this.\n",
    "\n",
    "12 - Just because a relationship can be conceptualised it does not mean it can be modelled by machine learning. Examples: more decision trees with more leaves than training data, or situations where the data has many local optima.\n",
    "\n",
    "13 - Just because a relationship can be found between two variables it does not mean that one causes the other.  It does provide insight to experiment further though to try and understand the real-world nature of the relationship, and the interplay between the two.  Seek to obtain experimental data where the variables are under control to prove a causation as opposed to observational data where there is no control to flex the variables.\n",
    "\n"
   ]
  },
  {
   "cell_type": "markdown",
   "metadata": {},
   "source": [
    "## Machine Learning\n",
    "\n",
    "\n",
    "#### 3 Ways we can select what features to use\n",
    "\n",
    "1) Domain knowledge or expertise to select the features.\n",
    "\n",
    "2) Principal component analysis\n",
    "\n",
    "3) Random Forest Classifier"
   ]
  },
  {
   "cell_type": "code",
   "execution_count": null,
   "metadata": {
    "collapsed": true
   },
   "outputs": [],
   "source": []
  },
  {
   "cell_type": "code",
   "execution_count": null,
   "metadata": {
    "collapsed": true
   },
   "outputs": [],
   "source": []
  }
 ],
 "metadata": {
  "kernelspec": {
   "display_name": "Python 3",
   "language": "python",
   "name": "python3"
  },
  "language_info": {
   "codemirror_mode": {
    "name": "ipython",
    "version": 3
   },
   "file_extension": ".py",
   "mimetype": "text/x-python",
   "name": "python",
   "nbconvert_exporter": "python",
   "pygments_lexer": "ipython3",
   "version": "3.6.1"
  }
 },
 "nbformat": 4,
 "nbformat_minor": 1
}
